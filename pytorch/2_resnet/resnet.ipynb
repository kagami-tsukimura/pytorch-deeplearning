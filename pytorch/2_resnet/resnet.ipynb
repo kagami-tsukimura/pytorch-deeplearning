{
 "cells": [
  {
   "cell_type": "code",
   "execution_count": 1,
   "metadata": {},
   "outputs": [],
   "source": [
    "import torch\n",
    "import torch.nn as nn"
   ]
  },
  {
   "cell_type": "code",
   "execution_count": 2,
   "metadata": {},
   "outputs": [],
   "source": [
    "class ResidualBlock(nn.Module):\n",
    "    def __init__(self, in_channels, out_channels, stride=1):\n",
    "        super().__init__()\n",
    "\n",
    "        self.conv1 = nn.Conv2d(in_channels, out_channels, kernel_size=3, padding=1)\n",
    "        self.conv2 = nn.Conv2d(out_channels, out_channels, kernel_size=3, padding=1)\n",
    "        # kernel_size=1: チャネル数を変化させる際に使用\n",
    "        self.conv3 = nn.Conv2d(in_channels, out_channels, kernel_size=1, padding=0)\n",
    "        self.bn = nn.BatchNorm2d(out_channels)\n",
    "        self.relu = nn.ReLU()\n",
    "\n",
    "    def shortcut(self, x):\n",
    "        x = self.conv3(x)\n",
    "        x = self.bn(x)\n",
    "        return x\n",
    "\n",
    "    def forward(self, x):\n",
    "        identity = x\n",
    "        x = self.conv1(x)\n",
    "        x = self.bn(x)\n",
    "        x = self.relu(x)\n",
    "        x = self.conv2(x)\n",
    "        x = self.bn(x)\n",
    "        # 残渣ブロック\n",
    "        x += self.shortcut(identity)"
   ]
  },
  {
   "cell_type": "code",
   "execution_count": null,
   "metadata": {},
   "outputs": [],
   "source": [
    "class ResNet(nn.Module):\n",
    "    def __init__(self, block):\n",
    "        super().__init__()\n",
    "        self.linear = nn.Linear(in_features=28 * 28 * 64, out_features=10)\n",
    "        # block, 3層重ねる, in_channels=RGB, out_channels=64\n",
    "        self.layer = self._make_layer(block, 3, 3, 64)\n",
    "\n",
    "    def _make_layer(self, block, num_residual_blocks, in_channels, out_channels):\n",
    "        layers = []\n",
    "        for i in range(num_residual_blocks):\n",
    "            (\n",
    "                layers.append(block(in_channels, out_channels))\n",
    "                if i == 0\n",
    "                else layers.append(block(out_channels, out_channels))\n",
    "            )\n",
    "\n",
    "        return nn.Sequential(*layers)\n",
    "\n",
    "    def forward(self, x):\n",
    "        x = self.layer(x)\n",
    "        x = x.view(x.size(0), -1)\n",
    "        x = self.linear(x)\n",
    "\n",
    "        return x"
   ]
  }
 ],
 "metadata": {
  "kernelspec": {
   "display_name": "Python 3",
   "language": "python",
   "name": "python3"
  },
  "language_info": {
   "codemirror_mode": {
    "name": "ipython",
    "version": 3
   },
   "file_extension": ".py",
   "mimetype": "text/x-python",
   "name": "python",
   "nbconvert_exporter": "python",
   "pygments_lexer": "ipython3",
   "version": "3.11.6"
  }
 },
 "nbformat": 4,
 "nbformat_minor": 2
}
