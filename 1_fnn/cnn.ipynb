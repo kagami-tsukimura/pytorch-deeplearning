{
 "cells": [
  {
   "cell_type": "code",
   "execution_count": 2,
   "metadata": {},
   "outputs": [],
   "source": [
    "import torch\n",
    "\n",
    "X = torch.tensor(\n",
    "    [\n",
    "        [\n",
    "            [1, 0, 0, 0, 0],\n",
    "            [1, 0, 0, 0, 0],\n",
    "            [1, 0, 0, 0, 0],\n",
    "            [1, 0, 0, 0, 0],\n",
    "            [1, 1, 1, 1, 1],\n",
    "        ],\n",
    "        [\n",
    "            [1, 1, 1, 1, 1],\n",
    "            [1, 0, 0, 0, 1],\n",
    "            [1, 0, 0, 0, 1],\n",
    "            [1, 0, 0, 0, 1],\n",
    "            [1, 1, 1, 1, 1],\n",
    "        ],\n",
    "        [\n",
    "            [1, 0, 0, 0, 1],\n",
    "            [1, 0, 0, 0, 1],\n",
    "            [1, 0, 0, 0, 1],\n",
    "            [0, 1, 1, 1, 0],\n",
    "            [0, 0, 1, 0, 0],\n",
    "        ],\n",
    "        [\n",
    "            [1, 1, 1, 1, 1],\n",
    "            [1, 0, 0, 0, 0],\n",
    "            [1, 1, 1, 1, 1],\n",
    "            [1, 0, 0, 0, 0],\n",
    "            [1, 1, 1, 1, 1],\n",
    "        ],\n",
    "    ],\n",
    "    dtype=torch.float,\n",
    ")"
   ]
  },
  {
   "cell_type": "code",
   "execution_count": 4,
   "metadata": {},
   "outputs": [
    {
     "data": {
      "text/plain": [
       "tensor([0, 1, 2, 3])"
      ]
     },
     "execution_count": 4,
     "metadata": {},
     "output_type": "execute_result"
    }
   ],
   "source": [
    "y = torch.tensor([0, 1, 2, 3])\n",
    "y"
   ]
  },
  {
   "cell_type": "code",
   "execution_count": 5,
   "metadata": {},
   "outputs": [],
   "source": [
    "classes = {\n",
    "    0: \"L\",\n",
    "    1: \"O\",\n",
    "    2: \"V\",\n",
    "    3: \"E\",\n",
    "}"
   ]
  },
  {
   "cell_type": "code",
   "execution_count": 11,
   "metadata": {},
   "outputs": [
    {
     "data": {
      "text/plain": [
       "'L'"
      ]
     },
     "execution_count": 11,
     "metadata": {},
     "output_type": "execute_result"
    }
   ],
   "source": [
    "classes[0]"
   ]
  },
  {
   "cell_type": "code",
   "execution_count": null,
   "metadata": {},
   "outputs": [],
   "source": []
  }
 ],
 "metadata": {
  "kernelspec": {
   "display_name": "Python 3",
   "language": "python",
   "name": "python3"
  },
  "language_info": {
   "codemirror_mode": {
    "name": "ipython",
    "version": 3
   },
   "file_extension": ".py",
   "mimetype": "text/x-python",
   "name": "python",
   "nbconvert_exporter": "python",
   "pygments_lexer": "ipython3",
   "version": "3.11.6"
  }
 },
 "nbformat": 4,
 "nbformat_minor": 2
}
