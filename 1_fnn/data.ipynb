{
 "cells": [
  {
   "cell_type": "code",
   "execution_count": 4,
   "metadata": {},
   "outputs": [
    {
     "data": {
      "text/plain": [
       "{0: 'L', 1: 'O', 2: 'V', 3: 'E'}"
      ]
     },
     "execution_count": 4,
     "metadata": {},
     "output_type": "execute_result"
    }
   ],
   "source": [
    "classes = {0: \"L\", 1: \"O\", 2: \"V\", 3: \"E\"}\n",
    "classes"
   ]
  },
  {
   "cell_type": "code",
   "execution_count": 5,
   "metadata": {},
   "outputs": [
    {
     "data": {
      "text/plain": [
       "tensor([[1., 0., 0., 0., 0.],\n",
       "        [1., 0., 0., 0., 0.],\n",
       "        [1., 0., 0., 0., 0.],\n",
       "        [1., 0., 0., 0., 0.],\n",
       "        [1., 1., 1., 1., 1.]])"
      ]
     },
     "execution_count": 5,
     "metadata": {},
     "output_type": "execute_result"
    }
   ],
   "source": [
    "import torch\n",
    "\n",
    "\n",
    "x = torch.Tensor(\n",
    "    [\n",
    "        [1, 0, 0, 0, 0],\n",
    "        [1, 0, 0, 0, 0],\n",
    "        [1, 0, 0, 0, 0],\n",
    "        [1, 0, 0, 0, 0],\n",
    "        [1, 1, 1, 1, 1],\n",
    "    ]\n",
    ")\n",
    "x"
   ]
  },
  {
   "cell_type": "code",
   "execution_count": 6,
   "metadata": {},
   "outputs": [
    {
     "data": {
      "image/png": "[encoded data removed]",
      "text/plain": [
       "<Figure size 640x480 with 1 Axes>"
      ]
     },
     "metadata": {},
     "output_type": "display_data"
    }
   ],
   "source": [
    "import matplotlib.pyplot as plt\n",
    "\n",
    "plt.imshow(x)\n",
    "plt.show()"
   ]
  },
  {
   "cell_type": "code",
   "execution_count": 7,
   "metadata": {},
   "outputs": [
    {
     "data": {
      "text/plain": [
       "tensor([[[1., 0., 0., 0., 0.],\n",
       "         [1., 0., 0., 0., 0.],\n",
       "         [1., 0., 0., 0., 0.],\n",
       "         [1., 0., 0., 0., 0.],\n",
       "         [1., 1., 1., 1., 1.]],\n",
       "\n",
       "        [[1., 1., 1., 1., 1.],\n",
       "         [1., 0., 0., 0., 1.],\n",
       "         [1., 0., 0., 0., 1.],\n",
       "         [1., 0., 0., 0., 1.],\n",
       "         [1., 1., 1., 1., 1.]],\n",
       "\n",
       "        [[1., 0., 0., 0., 1.],\n",
       "         [1., 0., 0., 0., 1.],\n",
       "         [1., 0., 0., 0., 1.],\n",
       "         [0., 1., 1., 1., 0.],\n",
       "         [0., 0., 1., 0., 0.]],\n",
       "\n",
       "        [[1., 1., 1., 1., 1.],\n",
       "         [1., 0., 0., 0., 0.],\n",
       "         [1., 1., 1., 1., 1.],\n",
       "         [1., 0., 0., 0., 0.],\n",
       "         [1., 1., 1., 1., 1.]]])"
      ]
     },
     "execution_count": 7,
     "metadata": {},
     "output_type": "execute_result"
    }
   ],
   "source": [
    "love = torch.Tensor(\n",
    "    [\n",
    "        [\n",
    "            [1, 0, 0, 0, 0],\n",
    "            [1, 0, 0, 0, 0],\n",
    "            [1, 0, 0, 0, 0],\n",
    "            [1, 0, 0, 0, 0],\n",
    "            [1, 1, 1, 1, 1],\n",
    "        ],\n",
    "        [\n",
    "            [1, 1, 1, 1, 1],\n",
    "            [1, 0, 0, 0, 1],\n",
    "            [1, 0, 0, 0, 1],\n",
    "            [1, 0, 0, 0, 1],\n",
    "            [1, 1, 1, 1, 1],\n",
    "        ],\n",
    "        [\n",
    "            [1, 0, 0, 0, 1],\n",
    "            [1, 0, 0, 0, 1],\n",
    "            [1, 0, 0, 0, 1],\n",
    "            [0, 1, 1, 1, 0],\n",
    "            [0, 0, 1, 0, 0],\n",
    "        ],\n",
    "        [\n",
    "            [1, 1, 1, 1, 1],\n",
    "            [1, 0, 0, 0, 0],\n",
    "            [1, 1, 1, 1, 1],\n",
    "            [1, 0, 0, 0, 0],\n",
    "            [1, 1, 1, 1, 1],\n",
    "        ],\n",
    "    ]\n",
    ")\n",
    "love"
   ]
  },
  {
   "cell_type": "code",
   "execution_count": 8,
   "metadata": {},
   "outputs": [
    {
     "data": {
      "image/png": "[encoded data removed]",
      "text/plain": [
       "<Figure size 640x480 with 1 Axes>"
      ]
     },
     "metadata": {},
     "output_type": "display_data"
    },
    {
     "data": {
      "image/png": "[encoded data removed]",
      "text/plain": [
       "<Figure size 640x480 with 1 Axes>"
      ]
     },
     "metadata": {},
     "output_type": "display_data"
    },
    {
     "data": {
      "image/png": "[encoded data removed]",
      "text/plain": [
       "<Figure size 640x480 with 1 Axes>"
      ]
     },
     "metadata": {},
     "output_type": "display_data"
    },
    {
     "data": {
      "image/png": "[encoded data removed]",
      "text/plain": [
       "<Figure size 640x480 with 1 Axes>"
      ]
     },
     "metadata": {},
     "output_type": "display_data"
    }
   ],
   "source": [
    "plt.imshow(love[0])\n",
    "plt.show()\n",
    "plt.imshow(love[1])\n",
    "plt.show()\n",
    "plt.imshow(love[2])\n",
    "plt.show()\n",
    "plt.imshow(love[3])\n",
    "plt.show()"
   ]
  },
  {
   "cell_type": "code",
   "execution_count": 9,
   "metadata": {},
   "outputs": [
    {
     "data": {
      "text/plain": [
       "tensor([0, 1, 2, 3])"
      ]
     },
     "execution_count": 9,
     "metadata": {},
     "output_type": "execute_result"
    }
   ],
   "source": [
    "y = torch.tensor([0, 1, 2, 3])\n",
    "y"
   ]
  },
  {
   "cell_type": "code",
   "execution_count": 10,
   "metadata": {},
   "outputs": [
    {
     "name": "stdout",
     "output_type": "stream",
     "text": [
      "L\n",
      "O\n",
      "V\n",
      "E\n"
     ]
    }
   ],
   "source": [
    "print(classes[y[0].item()])\n",
    "print(classes[y[1].item()])\n",
    "print(classes[y[2].item()])\n",
    "print(classes[y[3].item()])"
   ]
  },
  {
   "cell_type": "code",
   "execution_count": 11,
   "metadata": {},
   "outputs": [],
   "source": [
    "import torch.nn as nn\n",
    "import torch.nn.functional as F\n",
    "\n",
    "\n",
    "class Dense(nn.Module):\n",
    "    def __init__(self):\n",
    "        super().__init__()\n",
    "        # 入力層(25: 5*5の画像)\n",
    "        self.fc1 = nn.Linear(25, 32)\n",
    "        # 隠れ層\n",
    "        self.fc2 = nn.Linear(32, 32)\n",
    "        # 出力層（4: LOVEの4文字）\n",
    "        self.fc3 = nn.Linear(32, 4)\n",
    "\n",
    "    def forward(self, x):\n",
    "        x = F.relu(self.fc1(x))\n",
    "        x = F.relu(self.fc2(x))\n",
    "        x = self.fc3(x)\n",
    "        return x"
   ]
  },
  {
   "cell_type": "code",
   "execution_count": 12,
   "metadata": {},
   "outputs": [],
   "source": [
    "net = Dense()"
   ]
  },
  {
   "cell_type": "code",
   "execution_count": 18,
   "metadata": {},
   "outputs": [
    {
     "data": {
      "text/plain": [
       "tensor([[ 1.0038e-01, -3.4658e-02,  1.8618e-02, -4.2269e-02],\n",
       "        [ 5.8052e-02, -7.9580e-02,  3.2051e-02, -1.2221e-01],\n",
       "        [ 9.5511e-02, -5.8826e-02,  3.2132e-02, -8.3650e-02],\n",
       "        [ 6.3825e-02, -6.8236e-02,  8.6233e-05, -1.1246e-01]],\n",
       "       grad_fn=<AddmmBackward0>)"
      ]
     },
     "execution_count": 18,
     "metadata": {},
     "output_type": "execute_result"
    }
   ],
   "source": [
    "net(love.view(-1, 25))"
   ]
  },
  {
   "cell_type": "code",
   "execution_count": 20,
   "metadata": {},
   "outputs": [
    {
     "data": {
      "text/plain": [
       "torch.Size([4, 4])"
      ]
     },
     "execution_count": 20,
     "metadata": {},
     "output_type": "execute_result"
    }
   ],
   "source": [
    "net(love.view(-1, 25)).shape"
   ]
  },
  {
   "cell_type": "code",
   "execution_count": 23,
   "metadata": {},
   "outputs": [],
   "source": [
    "import torch.optim as optim\n",
    "\n",
    "# 分類:\n",
    "loss_fn = nn.CrossEntropyLoss()\n",
    "optimizer = optim.Adam(net.parameters(), lr=0.001)\n",
    "epochs = 100"
   ]
  },
  {
   "cell_type": "code",
   "execution_count": 46,
   "metadata": {},
   "outputs": [
    {
     "name": "stderr",
     "output_type": "stream",
     "text": [
      "100%|██████████| 100/100 [00:00<00:00, 974.52it/s]\n"
     ]
    }
   ],
   "source": [
    "from tqdm import tqdm\n",
    "\n",
    "losses = []\n",
    "accuracies = []\n",
    "recalls = []\n",
    "precisions = []\n",
    "\n",
    "for epoch in tqdm(range(epochs)):\n",
    "    # 勾配の初期化\n",
    "    optimizer.zero_grad()\n",
    "    # 推論\n",
    "    outputs = net.forward(love.view(-1, 25))\n",
    "    # 損失計算\n",
    "    loss = loss_fn(outputs, y)\n",
    "    # 勾配計算\n",
    "    loss.backward()\n",
    "    # 重み更新\n",
    "    optimizer.step()\n",
    "    losses.append(loss)\n",
    "\n",
    "    _, predicted = torch.max(outputs, 1)\n",
    "\n",
    "    # 精度の計算\n",
    "    correct = (predicted == y).sum().item()\n",
    "    accuracy = correct / y.size(0)\n",
    "    accuracies.append(accuracy)\n",
    "\n",
    "    # 再現率と適合率の計算（クラスごとに計算）\n",
    "    true_positives = torch.zeros(4)\n",
    "    false_positives = torch.zeros(4)\n",
    "    false_negatives = torch.zeros(4)\n",
    "\n",
    "    for i in range(4):\n",
    "        true_positives[i] = ((predicted == i) & (y == i)).sum().item()\n",
    "        false_positives[i] = ((predicted == i) & (y != i)).sum().item()\n",
    "        false_negatives[i] = ((predicted != i) & (y == i)).sum().item()\n",
    "\n",
    "    precision = true_positives / (true_positives + false_positives)\n",
    "    recall = true_positives / (true_positives + false_negatives)\n",
    "\n",
    "    # NaNを回避\n",
    "    precision[torch.isnan(precision)] = 0.0\n",
    "    recall[torch.isnan(recall)] = 0.0\n",
    "\n",
    "    # 平均値を計算\n",
    "    precisions.append(precision.mean().item())\n",
    "    recalls.append(recall.mean().item())"
   ]
  },
  {
   "cell_type": "code",
   "execution_count": 47,
   "metadata": {},
   "outputs": [
    {
     "data": {
      "text/plain": [
       "list"
      ]
     },
     "execution_count": 47,
     "metadata": {},
     "output_type": "execute_result"
    }
   ],
   "source": [
    "type(losses)"
   ]
  },
  {
   "cell_type": "code",
   "execution_count": 48,
   "metadata": {},
   "outputs": [
    {
     "data": {
      "image/png": "[encoded data removed]",
      "text/plain": [
       "<Figure size 640x480 with 1 Axes>"
      ]
     },
     "metadata": {},
     "output_type": "display_data"
    }
   ],
   "source": [
    "%matplotlib inline\n",
    "import matplotlib.pyplot as plt\n",
    "\n",
    "losses = torch.tensor(losses)\n",
    "plt.plot(losses)\n",
    "plt.show()"
   ]
  },
  {
   "cell_type": "code",
   "execution_count": 49,
   "metadata": {},
   "outputs": [
    {
     "data": {
      "image/png": "[encoded data removed]",
      "text/plain": [
       "<Figure size 640x480 with 1 Axes>"
      ]
     },
     "metadata": {},
     "output_type": "display_data"
    }
   ],
   "source": [
    "%matplotlib inline\n",
    "import matplotlib.pyplot as plt\n",
    "\n",
    "accuracies = torch.tensor(accuracies)\n",
    "plt.plot(accuracies)\n",
    "plt.show()"
   ]
  },
  {
   "cell_type": "code",
   "execution_count": null,
   "metadata": {},
   "outputs": [],
   "source": []
  }
 ],
 "metadata": {
  "kernelspec": {
   "display_name": "Python 3",
   "language": "python",
   "name": "python3"
  },
  "language_info": {
   "codemirror_mode": {
    "name": "ipython",
    "version": 3
   },
   "file_extension": ".py",
   "mimetype": "text/x-python",
   "name": "python",
   "nbconvert_exporter": "python",
   "pygments_lexer": "ipython3",
   "version": "3.11.6"
  }
 },
 "nbformat": 4,
 "nbformat_minor": 2
}
